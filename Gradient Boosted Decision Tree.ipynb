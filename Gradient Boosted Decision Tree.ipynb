{
 "cells": [
  {
   "cell_type": "code",
   "execution_count": 2,
   "metadata": {},
   "outputs": [
    {
     "data": {
      "text/plain": [
       "((90, 4), (90, 1))"
      ]
     },
     "execution_count": 2,
     "metadata": {},
     "output_type": "execute_result"
    }
   ],
   "source": [
    "import joblib #to pick the best model we get and be able to save it \n",
    "import pandas as pd\n",
    "from sklearn.ensemble import GradientBoostingClassifier\n",
    "from sklearn.model_selection import GridSearchCV #helps with tuning \n",
    "import warnings\n",
    "warnings.filterwarnings('ignore', category=FutureWarning)\n",
    "warnings.filterwarnings('ignore', category=DeprecationWarning)\n",
    "\n",
    "tr_features = pd.read_csv('C:/Users/HP/Documents/Iris_Data_Example/train_features.csv')\n",
    "tr_labels = pd.read_csv('C:/Users/HP/Documents/Iris_Data_Example/train_labels.csv',)\n",
    "\n",
    "tr_features.shape, tr_labels.shape"
   ]
  },
  {
   "cell_type": "markdown",
   "metadata": {},
   "source": [
    "Hyperparameters to tune\n",
    "\n",
    "- max_depth - how deep the tree will go\n",
    "- n_estimators - how many nodes the tree will have\n",
    "- learning rate - value controlling how fast/slow the model learns the data"
   ]
  },
  {
   "cell_type": "code",
   "execution_count": 3,
   "metadata": {},
   "outputs": [],
   "source": [
    "#this function will print out the results for 5 cross validation\n",
    "\n",
    "def print_results(results):\n",
    "    print('BEST PARAMS: {}\\n'.format(results.best_params_))\n",
    "    \n",
    "    means = results.cv_results_['mean_test_score']\n",
    "    stds = results.cv_results_['std_test_score']\n",
    "    for mean, std, params in zip(means, stds, results.cv_results_['params']):\n",
    "        print('{} (+/-{}) for {}'.format(round(mean, 3), round(std * 2, 3), params))\n",
    "    "
   ]
  },
  {
   "cell_type": "code",
   "execution_count": 4,
   "metadata": {},
   "outputs": [
    {
     "name": "stdout",
     "output_type": "stream",
     "text": [
      "BEST PARAMS: {'learning_rate': 0.01, 'max_depth': 1, 'n_estimators': 250}\n",
      "\n",
      "0.6 (+/-0.452) for {'learning_rate': 0.01, 'max_depth': 1, 'n_estimators': 5}\n",
      "0.9 (+/-0.191) for {'learning_rate': 0.01, 'max_depth': 1, 'n_estimators': 50}\n",
      "0.933 (+/-0.215) for {'learning_rate': 0.01, 'max_depth': 1, 'n_estimators': 250}\n",
      "0.922 (+/-0.206) for {'learning_rate': 0.01, 'max_depth': 1, 'n_estimators': 500}\n",
      "0.711 (+/-0.247) for {'learning_rate': 0.01, 'max_depth': 3, 'n_estimators': 5}\n",
      "0.889 (+/-0.172) for {'learning_rate': 0.01, 'max_depth': 3, 'n_estimators': 50}\n",
      "0.889 (+/-0.172) for {'learning_rate': 0.01, 'max_depth': 3, 'n_estimators': 250}\n",
      "0.9 (+/-0.191) for {'learning_rate': 0.01, 'max_depth': 3, 'n_estimators': 500}\n",
      "0.722 (+/-0.233) for {'learning_rate': 0.01, 'max_depth': 5, 'n_estimators': 5}\n",
      "0.911 (+/-0.194) for {'learning_rate': 0.01, 'max_depth': 5, 'n_estimators': 50}\n",
      "0.9 (+/-0.178) for {'learning_rate': 0.01, 'max_depth': 5, 'n_estimators': 250}\n",
      "0.9 (+/-0.178) for {'learning_rate': 0.01, 'max_depth': 5, 'n_estimators': 500}\n",
      "0.733 (+/-0.276) for {'learning_rate': 0.01, 'max_depth': 7, 'n_estimators': 5}\n",
      "0.922 (+/-0.206) for {'learning_rate': 0.01, 'max_depth': 7, 'n_estimators': 50}\n",
      "0.922 (+/-0.206) for {'learning_rate': 0.01, 'max_depth': 7, 'n_estimators': 250}\n",
      "0.922 (+/-0.206) for {'learning_rate': 0.01, 'max_depth': 7, 'n_estimators': 500}\n",
      "0.7 (+/-0.151) for {'learning_rate': 0.01, 'max_depth': 9, 'n_estimators': 5}\n",
      "0.922 (+/-0.206) for {'learning_rate': 0.01, 'max_depth': 9, 'n_estimators': 50}\n",
      "0.922 (+/-0.206) for {'learning_rate': 0.01, 'max_depth': 9, 'n_estimators': 250}\n",
      "0.922 (+/-0.206) for {'learning_rate': 0.01, 'max_depth': 9, 'n_estimators': 500}\n",
      "0.9 (+/-0.191) for {'learning_rate': 0.1, 'max_depth': 1, 'n_estimators': 5}\n",
      "0.922 (+/-0.206) for {'learning_rate': 0.1, 'max_depth': 1, 'n_estimators': 50}\n",
      "0.911 (+/-0.194) for {'learning_rate': 0.1, 'max_depth': 1, 'n_estimators': 250}\n",
      "0.9 (+/-0.191) for {'learning_rate': 0.1, 'max_depth': 1, 'n_estimators': 500}\n",
      "0.889 (+/-0.172) for {'learning_rate': 0.1, 'max_depth': 3, 'n_estimators': 5}\n",
      "0.9 (+/-0.191) for {'learning_rate': 0.1, 'max_depth': 3, 'n_estimators': 50}\n",
      "0.9 (+/-0.204) for {'learning_rate': 0.1, 'max_depth': 3, 'n_estimators': 250}\n",
      "0.9 (+/-0.204) for {'learning_rate': 0.1, 'max_depth': 3, 'n_estimators': 500}\n",
      "0.911 (+/-0.194) for {'learning_rate': 0.1, 'max_depth': 5, 'n_estimators': 5}\n",
      "0.911 (+/-0.194) for {'learning_rate': 0.1, 'max_depth': 5, 'n_estimators': 50}\n",
      "0.911 (+/-0.194) for {'learning_rate': 0.1, 'max_depth': 5, 'n_estimators': 250}\n",
      "0.9 (+/-0.178) for {'learning_rate': 0.1, 'max_depth': 5, 'n_estimators': 500}\n",
      "0.922 (+/-0.206) for {'learning_rate': 0.1, 'max_depth': 7, 'n_estimators': 5}\n",
      "0.922 (+/-0.206) for {'learning_rate': 0.1, 'max_depth': 7, 'n_estimators': 50}\n",
      "0.922 (+/-0.206) for {'learning_rate': 0.1, 'max_depth': 7, 'n_estimators': 250}\n",
      "0.922 (+/-0.206) for {'learning_rate': 0.1, 'max_depth': 7, 'n_estimators': 500}\n",
      "0.922 (+/-0.206) for {'learning_rate': 0.1, 'max_depth': 9, 'n_estimators': 5}\n",
      "0.922 (+/-0.206) for {'learning_rate': 0.1, 'max_depth': 9, 'n_estimators': 50}\n",
      "0.922 (+/-0.206) for {'learning_rate': 0.1, 'max_depth': 9, 'n_estimators': 250}\n",
      "0.922 (+/-0.206) for {'learning_rate': 0.1, 'max_depth': 9, 'n_estimators': 500}\n",
      "0.9 (+/-0.178) for {'learning_rate': 1, 'max_depth': 1, 'n_estimators': 5}\n",
      "0.9 (+/-0.178) for {'learning_rate': 1, 'max_depth': 1, 'n_estimators': 50}\n",
      "0.878 (+/-0.163) for {'learning_rate': 1, 'max_depth': 1, 'n_estimators': 250}\n",
      "0.878 (+/-0.163) for {'learning_rate': 1, 'max_depth': 1, 'n_estimators': 500}\n",
      "0.911 (+/-0.206) for {'learning_rate': 1, 'max_depth': 3, 'n_estimators': 5}\n",
      "0.911 (+/-0.206) for {'learning_rate': 1, 'max_depth': 3, 'n_estimators': 50}\n",
      "0.9 (+/-0.191) for {'learning_rate': 1, 'max_depth': 3, 'n_estimators': 250}\n",
      "0.9 (+/-0.191) for {'learning_rate': 1, 'max_depth': 3, 'n_estimators': 500}\n",
      "0.9 (+/-0.178) for {'learning_rate': 1, 'max_depth': 5, 'n_estimators': 5}\n",
      "0.9 (+/-0.178) for {'learning_rate': 1, 'max_depth': 5, 'n_estimators': 50}\n",
      "0.9 (+/-0.178) for {'learning_rate': 1, 'max_depth': 5, 'n_estimators': 250}\n",
      "0.889 (+/-0.172) for {'learning_rate': 1, 'max_depth': 5, 'n_estimators': 500}\n",
      "0.911 (+/-0.194) for {'learning_rate': 1, 'max_depth': 7, 'n_estimators': 5}\n",
      "0.911 (+/-0.194) for {'learning_rate': 1, 'max_depth': 7, 'n_estimators': 50}\n",
      "0.9 (+/-0.191) for {'learning_rate': 1, 'max_depth': 7, 'n_estimators': 250}\n",
      "0.9 (+/-0.191) for {'learning_rate': 1, 'max_depth': 7, 'n_estimators': 500}\n",
      "0.922 (+/-0.206) for {'learning_rate': 1, 'max_depth': 9, 'n_estimators': 5}\n",
      "0.911 (+/-0.194) for {'learning_rate': 1, 'max_depth': 9, 'n_estimators': 50}\n",
      "0.9 (+/-0.191) for {'learning_rate': 1, 'max_depth': 9, 'n_estimators': 250}\n",
      "0.9 (+/-0.191) for {'learning_rate': 1, 'max_depth': 9, 'n_estimators': 500}\n",
      "0.411 (+/-0.5) for {'learning_rate': 10, 'max_depth': 1, 'n_estimators': 5}\n",
      "0.411 (+/-0.5) for {'learning_rate': 10, 'max_depth': 1, 'n_estimators': 50}\n",
      "0.411 (+/-0.5) for {'learning_rate': 10, 'max_depth': 1, 'n_estimators': 250}\n",
      "0.411 (+/-0.5) for {'learning_rate': 10, 'max_depth': 1, 'n_estimators': 500}\n",
      "0.889 (+/-0.186) for {'learning_rate': 10, 'max_depth': 3, 'n_estimators': 5}\n",
      "0.878 (+/-0.163) for {'learning_rate': 10, 'max_depth': 3, 'n_estimators': 50}\n",
      "0.9 (+/-0.191) for {'learning_rate': 10, 'max_depth': 3, 'n_estimators': 250}\n",
      "0.878 (+/-0.163) for {'learning_rate': 10, 'max_depth': 3, 'n_estimators': 500}\n",
      "0.9 (+/-0.191) for {'learning_rate': 10, 'max_depth': 5, 'n_estimators': 5}\n",
      "0.889 (+/-0.172) for {'learning_rate': 10, 'max_depth': 5, 'n_estimators': 50}\n",
      "0.9 (+/-0.191) for {'learning_rate': 10, 'max_depth': 5, 'n_estimators': 250}\n",
      "0.889 (+/-0.172) for {'learning_rate': 10, 'max_depth': 5, 'n_estimators': 500}\n",
      "0.9 (+/-0.191) for {'learning_rate': 10, 'max_depth': 7, 'n_estimators': 5}\n",
      "0.9 (+/-0.191) for {'learning_rate': 10, 'max_depth': 7, 'n_estimators': 50}\n",
      "0.9 (+/-0.191) for {'learning_rate': 10, 'max_depth': 7, 'n_estimators': 250}\n",
      "0.9 (+/-0.191) for {'learning_rate': 10, 'max_depth': 7, 'n_estimators': 500}\n",
      "0.9 (+/-0.191) for {'learning_rate': 10, 'max_depth': 9, 'n_estimators': 5}\n",
      "0.9 (+/-0.191) for {'learning_rate': 10, 'max_depth': 9, 'n_estimators': 50}\n",
      "0.9 (+/-0.191) for {'learning_rate': 10, 'max_depth': 9, 'n_estimators': 250}\n",
      "0.9 (+/-0.191) for {'learning_rate': 10, 'max_depth': 9, 'n_estimators': 500}\n",
      "0.422 (+/-0.49) for {'learning_rate': 100, 'max_depth': 1, 'n_estimators': 5}\n",
      "0.422 (+/-0.49) for {'learning_rate': 100, 'max_depth': 1, 'n_estimators': 50}\n",
      "0.422 (+/-0.49) for {'learning_rate': 100, 'max_depth': 1, 'n_estimators': 250}\n",
      "0.422 (+/-0.49) for {'learning_rate': 100, 'max_depth': 1, 'n_estimators': 500}\n",
      "0.889 (+/-0.186) for {'learning_rate': 100, 'max_depth': 3, 'n_estimators': 5}\n",
      "0.889 (+/-0.186) for {'learning_rate': 100, 'max_depth': 3, 'n_estimators': 50}\n",
      "0.889 (+/-0.186) for {'learning_rate': 100, 'max_depth': 3, 'n_estimators': 250}\n",
      "0.9 (+/-0.191) for {'learning_rate': 100, 'max_depth': 3, 'n_estimators': 500}\n",
      "0.922 (+/-0.206) for {'learning_rate': 100, 'max_depth': 5, 'n_estimators': 5}\n",
      "0.9 (+/-0.191) for {'learning_rate': 100, 'max_depth': 5, 'n_estimators': 50}\n",
      "0.9 (+/-0.191) for {'learning_rate': 100, 'max_depth': 5, 'n_estimators': 250}\n",
      "0.922 (+/-0.206) for {'learning_rate': 100, 'max_depth': 5, 'n_estimators': 500}\n",
      "0.9 (+/-0.178) for {'learning_rate': 100, 'max_depth': 7, 'n_estimators': 5}\n",
      "0.889 (+/-0.172) for {'learning_rate': 100, 'max_depth': 7, 'n_estimators': 50}\n",
      "0.911 (+/-0.194) for {'learning_rate': 100, 'max_depth': 7, 'n_estimators': 250}\n",
      "0.9 (+/-0.178) for {'learning_rate': 100, 'max_depth': 7, 'n_estimators': 500}\n",
      "0.9 (+/-0.178) for {'learning_rate': 100, 'max_depth': 9, 'n_estimators': 5}\n",
      "0.9 (+/-0.178) for {'learning_rate': 100, 'max_depth': 9, 'n_estimators': 50}\n",
      "0.9 (+/-0.178) for {'learning_rate': 100, 'max_depth': 9, 'n_estimators': 250}\n",
      "0.889 (+/-0.172) for {'learning_rate': 100, 'max_depth': 9, 'n_estimators': 500}\n"
     ]
    }
   ],
   "source": [
    "gb = GradientBoostingClassifier()\n",
    "parameters = {\n",
    "    'n_estimators':[5, 50, 250, 500],\n",
    "    'max_depth': [1, 3, 5, 7, 9],\n",
    "    'learning_rate': [0.01, 0.1, 1, 10, 100]\n",
    "}\n",
    "\n",
    "cv = GridSearchCV(gb, parameters, cv=5)\n",
    "cv.fit(tr_features, tr_labels.values.ravel())\n",
    "\n",
    "print_results(cv)"
   ]
  },
  {
   "cell_type": "code",
   "execution_count": 5,
   "metadata": {},
   "outputs": [
    {
     "data": {
      "text/plain": [
       "GradientBoostingClassifier(learning_rate=0.01, max_depth=1, n_estimators=250)"
      ]
     },
     "execution_count": 5,
     "metadata": {},
     "output_type": "execute_result"
    }
   ],
   "source": [
    "cv.best_estimator_"
   ]
  },
  {
   "cell_type": "code",
   "execution_count": 6,
   "metadata": {},
   "outputs": [
    {
     "data": {
      "text/plain": [
       "['C:/Users/HP/Documents/Iris_Data_Example/Best_model/GB_model.pkl']"
      ]
     },
     "execution_count": 6,
     "metadata": {},
     "output_type": "execute_result"
    }
   ],
   "source": [
    "joblib.dump(cv.best_estimator_, 'C:/Users/HP/Documents/Iris_Data_Example/Best_model/GB_model.pkl')"
   ]
  },
  {
   "cell_type": "code",
   "execution_count": null,
   "metadata": {},
   "outputs": [],
   "source": []
  },
  {
   "cell_type": "code",
   "execution_count": null,
   "metadata": {},
   "outputs": [],
   "source": []
  },
  {
   "cell_type": "code",
   "execution_count": null,
   "metadata": {},
   "outputs": [],
   "source": []
  }
 ],
 "metadata": {
  "kernelspec": {
   "display_name": "Python 3",
   "language": "python",
   "name": "python3"
  },
  "language_info": {
   "codemirror_mode": {
    "name": "ipython",
    "version": 3
   },
   "file_extension": ".py",
   "mimetype": "text/x-python",
   "name": "python",
   "nbconvert_exporter": "python",
   "pygments_lexer": "ipython3",
   "version": "3.8.5"
  }
 },
 "nbformat": 4,
 "nbformat_minor": 4
}
