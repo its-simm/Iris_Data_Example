{
 "cells": [
  {
   "cell_type": "code",
   "execution_count": 2,
   "metadata": {},
   "outputs": [
    {
     "data": {
      "text/plain": [
       "((90, 4), (90, 1))"
      ]
     },
     "execution_count": 2,
     "metadata": {},
     "output_type": "execute_result"
    }
   ],
   "source": [
    "import joblib #to pick the best model we get and be able to save it \n",
    "import pandas as pd\n",
    "from sklearn.ensemble import RandomForestClassifier\n",
    "from sklearn.model_selection import GridSearchCV #helps with tuning \n",
    "import warnings\n",
    "warnings.filterwarnings('ignore', category=FutureWarning)\n",
    "warnings.filterwarnings('ignore', category=DeprecationWarning)\n",
    "\n",
    "tr_features = pd.read_csv('C:/Users/HP/Documents/Iris_Data_Example/train_features.csv')\n",
    "tr_labels = pd.read_csv('C:/Users/HP/Documents/Iris_Data_Example/train_labels.csv',)\n",
    "\n",
    "tr_features.shape, tr_labels.shape"
   ]
  },
  {
   "cell_type": "markdown",
   "metadata": {},
   "source": [
    "Hyperparameter tuning\n",
    "\n",
    "- max_depth - how deep the tree will go\n",
    "- n_estimators - how many nodes the tree will have "
   ]
  },
  {
   "cell_type": "code",
   "execution_count": 3,
   "metadata": {},
   "outputs": [],
   "source": [
    "#this function will print out the results for 5 cross validation\n",
    "\n",
    "def print_results(results):\n",
    "    print('BEST PARAMS: {}\\n'.format(results.best_params_))\n",
    "    \n",
    "    means = results.cv_results_['mean_test_score']\n",
    "    stds = results.cv_results_['std_test_score']\n",
    "    for mean, std, params in zip(means, stds, results.cv_results_['params']):\n",
    "        print('{} (+/-{}) for {}'.format(round(mean, 3), round(std * 2, 3), params))\n",
    "    "
   ]
  },
  {
   "cell_type": "code",
   "execution_count": 5,
   "metadata": {},
   "outputs": [
    {
     "name": "stdout",
     "output_type": "stream",
     "text": [
      "BEST PARAMS: {'max_depth': 4, 'n_estimators': 200}\n",
      "\n",
      "0.878 (+/-0.178) for {'max_depth': 2, 'n_estimators': 2}\n",
      "0.9 (+/-0.191) for {'max_depth': 2, 'n_estimators': 20}\n",
      "0.922 (+/-0.206) for {'max_depth': 2, 'n_estimators': 200}\n",
      "0.911 (+/-0.194) for {'max_depth': 2, 'n_estimators': 400}\n",
      "0.922 (+/-0.206) for {'max_depth': 2, 'n_estimators': 800}\n",
      "0.9 (+/-0.13) for {'max_depth': 4, 'n_estimators': 2}\n",
      "0.911 (+/-0.194) for {'max_depth': 4, 'n_estimators': 20}\n",
      "0.933 (+/-0.215) for {'max_depth': 4, 'n_estimators': 200}\n",
      "0.922 (+/-0.206) for {'max_depth': 4, 'n_estimators': 400}\n",
      "0.922 (+/-0.206) for {'max_depth': 4, 'n_estimators': 800}\n",
      "0.889 (+/-0.122) for {'max_depth': 8, 'n_estimators': 2}\n",
      "0.933 (+/-0.215) for {'max_depth': 8, 'n_estimators': 20}\n",
      "0.922 (+/-0.206) for {'max_depth': 8, 'n_estimators': 200}\n",
      "0.922 (+/-0.206) for {'max_depth': 8, 'n_estimators': 400}\n",
      "0.922 (+/-0.206) for {'max_depth': 8, 'n_estimators': 800}\n",
      "0.833 (+/-0.272) for {'max_depth': 16, 'n_estimators': 2}\n",
      "0.911 (+/-0.194) for {'max_depth': 16, 'n_estimators': 20}\n",
      "0.922 (+/-0.206) for {'max_depth': 16, 'n_estimators': 200}\n",
      "0.933 (+/-0.215) for {'max_depth': 16, 'n_estimators': 400}\n",
      "0.922 (+/-0.206) for {'max_depth': 16, 'n_estimators': 800}\n",
      "0.844 (+/-0.191) for {'max_depth': 32, 'n_estimators': 2}\n",
      "0.922 (+/-0.206) for {'max_depth': 32, 'n_estimators': 20}\n",
      "0.922 (+/-0.206) for {'max_depth': 32, 'n_estimators': 200}\n",
      "0.911 (+/-0.194) for {'max_depth': 32, 'n_estimators': 400}\n",
      "0.922 (+/-0.206) for {'max_depth': 32, 'n_estimators': 800}\n",
      "0.878 (+/-0.163) for {'max_depth': None, 'n_estimators': 2}\n",
      "0.911 (+/-0.194) for {'max_depth': None, 'n_estimators': 20}\n",
      "0.911 (+/-0.194) for {'max_depth': None, 'n_estimators': 200}\n",
      "0.922 (+/-0.206) for {'max_depth': None, 'n_estimators': 400}\n",
      "0.922 (+/-0.206) for {'max_depth': None, 'n_estimators': 800}\n"
     ]
    }
   ],
   "source": [
    "rf = RandomForestClassifier()\n",
    "parameters ={\n",
    "    'max_depth': [2, 4, 8, 16, 32, None],\n",
    "    'n_estimators': [2, 20, 200, 400, 800]\n",
    "}\n",
    "\n",
    "cv = GridSearchCV(rf, parameters, cv=5)\n",
    "cv.fit(tr_features, tr_labels.values.ravel())\n",
    "\n",
    "print_results(cv)"
   ]
  },
  {
   "cell_type": "code",
   "execution_count": 6,
   "metadata": {},
   "outputs": [
    {
     "data": {
      "text/plain": [
       "['C:/Users/HP/Documents/Iris_Data_Example/Best_model/RF_model.pkl']"
      ]
     },
     "execution_count": 6,
     "metadata": {},
     "output_type": "execute_result"
    }
   ],
   "source": [
    "joblib.dump(cv.best_estimator_, 'C:/Users/HP/Documents/Iris_Data_Example/Best_model/RF_model.pkl')"
   ]
  },
  {
   "cell_type": "code",
   "execution_count": null,
   "metadata": {},
   "outputs": [],
   "source": []
  },
  {
   "cell_type": "code",
   "execution_count": null,
   "metadata": {},
   "outputs": [],
   "source": []
  }
 ],
 "metadata": {
  "kernelspec": {
   "display_name": "Python 3",
   "language": "python",
   "name": "python3"
  },
  "language_info": {
   "codemirror_mode": {
    "name": "ipython",
    "version": 3
   },
   "file_extension": ".py",
   "mimetype": "text/x-python",
   "name": "python",
   "nbconvert_exporter": "python",
   "pygments_lexer": "ipython3",
   "version": "3.8.5"
  }
 },
 "nbformat": 4,
 "nbformat_minor": 4
}
